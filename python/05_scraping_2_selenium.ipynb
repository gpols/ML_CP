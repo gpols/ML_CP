{
 "cells": [
  {
   "cell_type": "markdown",
   "metadata": {
    "id": "X37Ua1CjJx4Y"
   },
   "source": [
    "# Scraping II\n",
    "\n",
    "---\n",
    "\n",
    "## Selenium\n",
    "\n",
    "See [the reference](https://selenium-python.readthedocs.io/getting-started.html) and the tutorial on [RealPython](https://realpython.com/modern-web-automation-with-python-and-selenium/). When working locally, you must also install a so-called \"driver\", which can control a browser (Chrome, Firefox) like a puppeteer."
   ]
  },
  {
   "cell_type": "markdown",
   "metadata": {
    "id": "yFDU5XwKJ-Bd",
    "tags": []
   },
   "source": [
    "## For Colab only!\n",
    "\n",
    "Copy the code below and run it in a cell (source [here](https://stackoverflow.com/a/54077842)).\n",
    "\n",
    "```python\n",
    "%%shell\n",
    "# Ubuntu no longer distributes chromium-browser outside of snap\n",
    "#\n",
    "# Proposed solution: https://askubuntu.com/questions/1204571/how-to-install-chromium-without-snap\n",
    "\n",
    "# Add debian buster\n",
    "cat > /etc/apt/sources.list.d/debian.list <<'EOF'\n",
    "deb [arch=amd64 signed-by=/usr/share/keyrings/debian-buster.gpg] http://deb.debian.org/debian buster main\n",
    "deb [arch=amd64 signed-by=/usr/share/keyrings/debian-buster-updates.gpg] http://deb.debian.org/debian buster-updates main\n",
    "deb [arch=amd64 signed-by=/usr/share/keyrings/debian-security-buster.gpg] http://deb.debian.org/debian-security buster/updates main\n",
    "EOF\n",
    "\n",
    "# Add keys\n",
    "apt-key adv --keyserver keyserver.ubuntu.com --recv-keys DCC9EFBF77E11517\n",
    "apt-key adv --keyserver keyserver.ubuntu.com --recv-keys 648ACFD622F3D138\n",
    "apt-key adv --keyserver keyserver.ubuntu.com --recv-keys 112695A0E562B32A\n",
    "\n",
    "apt-key export 77E11517 | gpg --dearmour -o /usr/share/keyrings/debian-buster.gpg\n",
    "apt-key export 22F3D138 | gpg --dearmour -o /usr/share/keyrings/debian-buster-updates.gpg\n",
    "apt-key export E562B32A | gpg --dearmour -o /usr/share/keyrings/debian-security-buster.gpg\n",
    "\n",
    "# Prefer debian repo for chromium* packages only\n",
    "# Note the double-blank lines between entries\n",
    "cat > /etc/apt/preferences.d/chromium.pref << 'EOF'\n",
    "Package: *\n",
    "Pin: release a=eoan\n",
    "Pin-Priority: 500\n",
    "\n",
    "\n",
    "Package: *\n",
    "Pin: origin \"deb.debian.org\"\n",
    "Pin-Priority: 300\n",
    "\n",
    "\n",
    "Package: chromium*\n",
    "Pin: origin \"deb.debian.org\"\n",
    "Pin-Priority: 700\n",
    "EOF\n",
    "\n",
    "# Install chromium and chromium-driver\n",
    "apt-get update\n",
    "apt-get install chromium chromium-driver\n",
    "\n",
    "# Install selenium\n",
    "pip install selenium\n",
    "```"
   ]
  },
  {
   "cell_type": "code",
   "execution_count": null,
   "metadata": {
    "id": "6ZE-9sL8KTQW"
   },
   "outputs": [],
   "source": [
    "from selenium import webdriver\n",
    "from selenium.webdriver.chrome.service import Service"
   ]
  },
  {
   "cell_type": "code",
   "execution_count": null,
   "metadata": {
    "id": "Gn2yRi71KKaj"
   },
   "outputs": [],
   "source": [
    "# https://stackoverflow.com/a/76432322\n",
    "service = Service(executable_path=r'/usr/bin/chromedriver')\n",
    "options = webdriver.ChromeOptions()\n",
    "options.add_argument('--headless') # when working locally, disabling this allows you to open a browser and see what is happening!\n",
    "options.add_argument('--no-sandbox')\n",
    "options.add_argument('--disable-dev-shm-usage')\n",
    "driver = webdriver.Chrome(service=service, options=options)"
   ]
  },
  {
   "cell_type": "code",
   "execution_count": null,
   "metadata": {
    "id": "r_TAZyFHKRxn"
   },
   "outputs": [],
   "source": [
    "URL = \"https://en.wikipedia.org/wiki/Artificial_intelligence\"\n",
    "driver.get(URL)"
   ]
  },
  {
   "cell_type": "code",
   "execution_count": null,
   "metadata": {
    "id": "ENCEp4h3LUN_"
   },
   "outputs": [],
   "source": [
    "import IPython\n",
    "IPython.display.HTML(driver.page_source)"
   ]
  },
  {
   "cell_type": "markdown",
   "metadata": {
    "id": "IsrE_yKzLwGh"
   },
   "source": [
    "Find elements a bit like in BeautifulSoup. See the [Locating Elements](https://selenium-python.readthedocs.io/locating-elements.html#locating-elements) chapter."
   ]
  },
  {
   "cell_type": "code",
   "execution_count": null,
   "metadata": {
    "id": "0aACPKJDK40f"
   },
   "outputs": [],
   "source": [
    "from selenium.webdriver.common.by import By\n",
    "driver.find_elements(By.TAG_NAME, \"img\")"
   ]
  },
  {
   "cell_type": "code",
   "execution_count": null,
   "metadata": {
    "id": "X1LfMVsGMuc2"
   },
   "outputs": [],
   "source": [
    "first_img = driver.find_element(By.TAG_NAME, \"img\") # only the first element"
   ]
  },
  {
   "cell_type": "code",
   "execution_count": null,
   "metadata": {
    "id": "0_mb1nA-MzOA"
   },
   "outputs": [],
   "source": [
    "first_img.get_attribute('src')"
   ]
  }
 ],
 "metadata": {
  "colab": {
   "provenance": []
  },
  "kernelspec": {
   "display_name": "Python 3 (ipykernel)",
   "language": "python",
   "name": "python3"
  },
  "language_info": {
   "codemirror_mode": {
    "name": "ipython",
    "version": 3
   },
   "file_extension": ".py",
   "mimetype": "text/x-python",
   "name": "python",
   "nbconvert_exporter": "python",
   "pygments_lexer": "ipython3",
   "version": "3.11.5"
  }
 },
 "nbformat": 4,
 "nbformat_minor": 4
}
